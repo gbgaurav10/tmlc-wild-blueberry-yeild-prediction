{
 "cells": [
  {
   "cell_type": "code",
   "execution_count": 1,
   "metadata": {},
   "outputs": [
    {
     "data": {
      "text/plain": [
       "'/config/workspace/notebooks'"
      ]
     },
     "execution_count": 1,
     "metadata": {},
     "output_type": "execute_result"
    }
   ],
   "source": [
    "import os, sys\n",
    "%pwd"
   ]
  },
  {
   "cell_type": "code",
   "execution_count": 2,
   "metadata": {},
   "outputs": [
    {
     "data": {
      "text/plain": [
       "'/config/workspace'"
      ]
     },
     "execution_count": 2,
     "metadata": {},
     "output_type": "execute_result"
    }
   ],
   "source": [
    "os.chdir(\"../\")\n",
    "%pwd"
   ]
  },
  {
   "cell_type": "code",
   "execution_count": 3,
   "metadata": {},
   "outputs": [],
   "source": [
    "import pandas as pd \n",
    "pd.set_option(\"display.max_columns\", None)"
   ]
  },
  {
   "cell_type": "code",
   "execution_count": 4,
   "metadata": {},
   "outputs": [
    {
     "data": {
      "text/plain": [
       "(777, 18)"
      ]
     },
     "execution_count": 4,
     "metadata": {},
     "output_type": "execute_result"
    }
   ],
   "source": [
    "data_path = \"artifacts/data_ingestion/WildBlueberryPollinationSimulationData.csv\"\n",
    "\n",
    "df = pd.read_csv(data_path)\n",
    "\n",
    "df.shape"
   ]
  },
  {
   "cell_type": "code",
   "execution_count": 5,
   "metadata": {},
   "outputs": [
    {
     "name": "stdout",
     "output_type": "stream",
     "text": [
      "<class 'pandas.core.frame.DataFrame'>\n",
      "RangeIndex: 777 entries, 0 to 776\n",
      "Data columns (total 18 columns):\n",
      " #   Column                Non-Null Count  Dtype  \n",
      "---  ------                --------------  -----  \n",
      " 0   Row#                  777 non-null    int64  \n",
      " 1   clonesize             777 non-null    float64\n",
      " 2   honeybee              777 non-null    float64\n",
      " 3   bumbles               777 non-null    float64\n",
      " 4   andrena               777 non-null    float64\n",
      " 5   osmia                 777 non-null    float64\n",
      " 6   MaxOfUpperTRange      777 non-null    float64\n",
      " 7   MinOfUpperTRange      777 non-null    float64\n",
      " 8   AverageOfUpperTRange  777 non-null    float64\n",
      " 9   MaxOfLowerTRange      777 non-null    float64\n",
      " 10  MinOfLowerTRange      777 non-null    float64\n",
      " 11  AverageOfLowerTRange  777 non-null    float64\n",
      " 12  RainingDays           777 non-null    float64\n",
      " 13  AverageRainingDays    777 non-null    float64\n",
      " 14  fruitset              777 non-null    float64\n",
      " 15  fruitmass             777 non-null    float64\n",
      " 16  seeds                 777 non-null    float64\n",
      " 17  yield                 777 non-null    float64\n",
      "dtypes: float64(17), int64(1)\n",
      "memory usage: 109.4 KB\n"
     ]
    }
   ],
   "source": [
    "df.info()"
   ]
  }
 ],
 "metadata": {
  "kernelspec": {
   "display_name": "Python 3.10.13 64-bit ('blueberry')",
   "language": "python",
   "name": "python3"
  },
  "language_info": {
   "codemirror_mode": {
    "name": "ipython",
    "version": 3
   },
   "file_extension": ".py",
   "mimetype": "text/x-python",
   "name": "python",
   "nbconvert_exporter": "python",
   "pygments_lexer": "ipython3",
   "version": "3.10.13"
  },
  "orig_nbformat": 4,
  "vscode": {
   "interpreter": {
    "hash": "ff96283520c0162e10ff465f366a90aecb216489be2ba8f17c2d4f315a27980d"
   }
  }
 },
 "nbformat": 4,
 "nbformat_minor": 2
}
